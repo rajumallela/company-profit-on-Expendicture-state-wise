{
 "cells": [
  {
   "cell_type": "markdown",
   "id": "bd6f2595-8209-4f1e-a3e3-ecd692628d3d",
   "metadata": {},
   "source": [
    "# Project"
   ]
  },
  {
   "cell_type": "code",
   "execution_count": null,
   "id": "31d6c965-f70b-495c-9e0f-db9a3aeaf935",
   "metadata": {},
   "outputs": [],
   "source": [
    "Title : Predicting Company Profit Based on Expenditure and State Information"
   ]
  },
  {
   "cell_type": "code",
   "execution_count": null,
   "id": "7d04b595-700b-4d1c-ae3c-1db845aa857c",
   "metadata": {},
   "outputs": [],
   "source": [
    "objective:\n",
    "To simplify the data for building a predictive model aimed at forecasting a company's profit\n",
    "based on its expenditures in productivity, management, and promotions, as well as its state of operation"
   ]
  },
  {
   "cell_type": "code",
   "execution_count": null,
   "id": "23f509d0-5c24-4d62-833a-9716c1bbb234",
   "metadata": {},
   "outputs": [],
   "source": [
    "Dataset Description:\n",
    "The dataset consists of the following columns:\n",
    "Productivity_Exp: Amount spent on productivity-related expenses \n",
    "Management_Exp: Amount spent on management-related expenses \n",
    "Promotions_Exp: Amount spent on promotional activities \n",
    "State: The state in which the company operates.\n",
    "profit: The profit of the company "
   ]
  },
  {
   "cell_type": "markdown",
   "id": "ebe66d93-42d4-419d-9db9-665903859908",
   "metadata": {},
   "source": [
    "# Importing libraries"
   ]
  },
  {
   "cell_type": "code",
   "execution_count": 5,
   "id": "a6992e7d-190e-43bf-be2e-4b9f417afcd3",
   "metadata": {},
   "outputs": [],
   "source": [
    "import pandas as pd \n",
    "import numpy as np\n",
    "import matplotlib.pyplot as plt\n",
    "import seaborn as sns"
   ]
  },
  {
   "cell_type": "code",
   "execution_count": 6,
   "id": "acd6af76-a0df-4976-be7f-e4bd0a2628d8",
   "metadata": {},
   "outputs": [
    {
     "data": {
      "text/html": [
       "<div>\n",
       "<style scoped>\n",
       "    .dataframe tbody tr th:only-of-type {\n",
       "        vertical-align: middle;\n",
       "    }\n",
       "\n",
       "    .dataframe tbody tr th {\n",
       "        vertical-align: top;\n",
       "    }\n",
       "\n",
       "    .dataframe thead th {\n",
       "        text-align: right;\n",
       "    }\n",
       "</style>\n",
       "<table border=\"1\" class=\"dataframe\">\n",
       "  <thead>\n",
       "    <tr style=\"text-align: right;\">\n",
       "      <th></th>\n",
       "      <th>Productivity_Exp</th>\n",
       "      <th>Management_Exp</th>\n",
       "      <th>Promotions_Exp</th>\n",
       "      <th>State</th>\n",
       "      <th>Profit</th>\n",
       "    </tr>\n",
       "  </thead>\n",
       "  <tbody>\n",
       "    <tr>\n",
       "      <th>0</th>\n",
       "      <td>220349.20</td>\n",
       "      <td>236897.80</td>\n",
       "      <td>521784.10</td>\n",
       "      <td>Texas</td>\n",
       "      <td>242261.83</td>\n",
       "    </tr>\n",
       "    <tr>\n",
       "      <th>1</th>\n",
       "      <td>217597.70</td>\n",
       "      <td>251377.59</td>\n",
       "      <td>493898.53</td>\n",
       "      <td>Illinois</td>\n",
       "      <td>241792.06</td>\n",
       "    </tr>\n",
       "    <tr>\n",
       "      <th>2</th>\n",
       "      <td>208441.51</td>\n",
       "      <td>201145.55</td>\n",
       "      <td>457934.54</td>\n",
       "      <td>Washington</td>\n",
       "      <td>241050.39</td>\n",
       "    </tr>\n",
       "    <tr>\n",
       "      <th>3</th>\n",
       "      <td>199372.41</td>\n",
       "      <td>218671.85</td>\n",
       "      <td>433199.62</td>\n",
       "      <td>Texas</td>\n",
       "      <td>232901.99</td>\n",
       "    </tr>\n",
       "    <tr>\n",
       "      <th>4</th>\n",
       "      <td>197107.34</td>\n",
       "      <td>191391.77</td>\n",
       "      <td>416168.42</td>\n",
       "      <td>Washington</td>\n",
       "      <td>216187.94</td>\n",
       "    </tr>\n",
       "    <tr>\n",
       "      <th>5</th>\n",
       "      <td>186876.90</td>\n",
       "      <td>199814.71</td>\n",
       "      <td>412861.36</td>\n",
       "      <td>Texas</td>\n",
       "      <td>206991.12</td>\n",
       "    </tr>\n",
       "    <tr>\n",
       "      <th>6</th>\n",
       "      <td>189615.46</td>\n",
       "      <td>247198.87</td>\n",
       "      <td>177716.82</td>\n",
       "      <td>Illinois</td>\n",
       "      <td>206122.51</td>\n",
       "    </tr>\n",
       "    <tr>\n",
       "      <th>7</th>\n",
       "      <td>185298.13</td>\n",
       "      <td>245530.06</td>\n",
       "      <td>373876.68</td>\n",
       "      <td>Washington</td>\n",
       "      <td>205752.60</td>\n",
       "    </tr>\n",
       "    <tr>\n",
       "      <th>8</th>\n",
       "      <td>175542.52</td>\n",
       "      <td>248718.95</td>\n",
       "      <td>361613.29</td>\n",
       "      <td>Texas</td>\n",
       "      <td>202211.77</td>\n",
       "    </tr>\n",
       "    <tr>\n",
       "      <th>9</th>\n",
       "      <td>178334.88</td>\n",
       "      <td>208679.17</td>\n",
       "      <td>354981.62</td>\n",
       "      <td>Illinois</td>\n",
       "      <td>199759.96</td>\n",
       "    </tr>\n",
       "    <tr>\n",
       "      <th>10</th>\n",
       "      <td>156913.08</td>\n",
       "      <td>210594.11</td>\n",
       "      <td>279160.95</td>\n",
       "      <td>Washington</td>\n",
       "      <td>196121.95</td>\n",
       "    </tr>\n",
       "    <tr>\n",
       "      <th>11</th>\n",
       "      <td>155671.96</td>\n",
       "      <td>191790.61</td>\n",
       "      <td>299744.55</td>\n",
       "      <td>Illinois</td>\n",
       "      <td>194259.40</td>\n",
       "    </tr>\n",
       "    <tr>\n",
       "      <th>12</th>\n",
       "      <td>148863.75</td>\n",
       "      <td>227320.38</td>\n",
       "      <td>299839.44</td>\n",
       "      <td>Washington</td>\n",
       "      <td>191585.52</td>\n",
       "    </tr>\n",
       "    <tr>\n",
       "      <th>13</th>\n",
       "      <td>146992.39</td>\n",
       "      <td>235495.07</td>\n",
       "      <td>302664.93</td>\n",
       "      <td>Illinois</td>\n",
       "      <td>184307.35</td>\n",
       "    </tr>\n",
       "    <tr>\n",
       "      <th>14</th>\n",
       "      <td>174943.24</td>\n",
       "      <td>256547.42</td>\n",
       "      <td>306512.92</td>\n",
       "      <td>Washington</td>\n",
       "      <td>182602.65</td>\n",
       "    </tr>\n",
       "    <tr>\n",
       "      <th>15</th>\n",
       "      <td>169523.61</td>\n",
       "      <td>222616.84</td>\n",
       "      <td>311776.23</td>\n",
       "      <td>Texas</td>\n",
       "      <td>179917.04</td>\n",
       "    </tr>\n",
       "    <tr>\n",
       "      <th>16</th>\n",
       "      <td>133013.11</td>\n",
       "      <td>221597.55</td>\n",
       "      <td>314346.06</td>\n",
       "      <td>Illinois</td>\n",
       "      <td>176992.93</td>\n",
       "    </tr>\n",
       "    <tr>\n",
       "      <th>17</th>\n",
       "      <td>149657.16</td>\n",
       "      <td>245077.58</td>\n",
       "      <td>332574.31</td>\n",
       "      <td>Texas</td>\n",
       "      <td>175370.37</td>\n",
       "    </tr>\n",
       "    <tr>\n",
       "      <th>18</th>\n",
       "      <td>146749.16</td>\n",
       "      <td>214175.79</td>\n",
       "      <td>344919.57</td>\n",
       "      <td>Washington</td>\n",
       "      <td>174266.90</td>\n",
       "    </tr>\n",
       "    <tr>\n",
       "      <th>19</th>\n",
       "      <td>141419.70</td>\n",
       "      <td>253514.11</td>\n",
       "      <td>50000.00</td>\n",
       "      <td>Texas</td>\n",
       "      <td>172776.86</td>\n",
       "    </tr>\n",
       "    <tr>\n",
       "      <th>20</th>\n",
       "      <td>131253.86</td>\n",
       "      <td>213867.30</td>\n",
       "      <td>348664.47</td>\n",
       "      <td>Illinois</td>\n",
       "      <td>168474.03</td>\n",
       "    </tr>\n",
       "    <tr>\n",
       "      <th>21</th>\n",
       "      <td>133389.47</td>\n",
       "      <td>253773.43</td>\n",
       "      <td>349737.29</td>\n",
       "      <td>Texas</td>\n",
       "      <td>161313.02</td>\n",
       "    </tr>\n",
       "    <tr>\n",
       "      <th>22</th>\n",
       "      <td>128994.56</td>\n",
       "      <td>222782.75</td>\n",
       "      <td>353319.26</td>\n",
       "      <td>Washington</td>\n",
       "      <td>160352.25</td>\n",
       "    </tr>\n",
       "    <tr>\n",
       "      <th>23</th>\n",
       "      <td>122532.53</td>\n",
       "      <td>205751.03</td>\n",
       "      <td>354768.73</td>\n",
       "      <td>Washington</td>\n",
       "      <td>158733.99</td>\n",
       "    </tr>\n",
       "    <tr>\n",
       "      <th>24</th>\n",
       "      <td>132044.01</td>\n",
       "      <td>199281.34</td>\n",
       "      <td>190574.81</td>\n",
       "      <td>Texas</td>\n",
       "      <td>158552.04</td>\n",
       "    </tr>\n",
       "    <tr>\n",
       "      <th>25</th>\n",
       "      <td>119664.71</td>\n",
       "      <td>239553.16</td>\n",
       "      <td>187962.62</td>\n",
       "      <td>Illinois</td>\n",
       "      <td>157404.34</td>\n",
       "    </tr>\n",
       "    <tr>\n",
       "      <th>26</th>\n",
       "      <td>130328.87</td>\n",
       "      <td>244135.98</td>\n",
       "      <td>184050.07</td>\n",
       "      <td>Washington</td>\n",
       "      <td>155733.54</td>\n",
       "    </tr>\n",
       "    <tr>\n",
       "      <th>27</th>\n",
       "      <td>127107.60</td>\n",
       "      <td>227864.55</td>\n",
       "      <td>403183.81</td>\n",
       "      <td>Texas</td>\n",
       "      <td>155008.31</td>\n",
       "    </tr>\n",
       "    <tr>\n",
       "      <th>28</th>\n",
       "      <td>121051.52</td>\n",
       "      <td>282645.56</td>\n",
       "      <td>168148.20</td>\n",
       "      <td>Washington</td>\n",
       "      <td>153282.38</td>\n",
       "    </tr>\n",
       "    <tr>\n",
       "      <th>29</th>\n",
       "      <td>120605.48</td>\n",
       "      <td>253032.06</td>\n",
       "      <td>157138.38</td>\n",
       "      <td>Texas</td>\n",
       "      <td>151004.64</td>\n",
       "    </tr>\n",
       "    <tr>\n",
       "      <th>30</th>\n",
       "      <td>116994.48</td>\n",
       "      <td>215641.28</td>\n",
       "      <td>141131.24</td>\n",
       "      <td>Washington</td>\n",
       "      <td>149937.59</td>\n",
       "    </tr>\n",
       "    <tr>\n",
       "      <th>31</th>\n",
       "      <td>116136.38</td>\n",
       "      <td>252701.92</td>\n",
       "      <td>138218.23</td>\n",
       "      <td>Texas</td>\n",
       "      <td>147483.56</td>\n",
       "    </tr>\n",
       "    <tr>\n",
       "      <th>32</th>\n",
       "      <td>118408.86</td>\n",
       "      <td>229219.61</td>\n",
       "      <td>96085.25</td>\n",
       "      <td>Illinois</td>\n",
       "      <td>147427.84</td>\n",
       "    </tr>\n",
       "    <tr>\n",
       "      <th>33</th>\n",
       "      <td>110493.95</td>\n",
       "      <td>203057.49</td>\n",
       "      <td>264634.81</td>\n",
       "      <td>Washington</td>\n",
       "      <td>146778.92</td>\n",
       "    </tr>\n",
       "    <tr>\n",
       "      <th>34</th>\n",
       "      <td>101426.07</td>\n",
       "      <td>257693.92</td>\n",
       "      <td>260797.67</td>\n",
       "      <td>Illinois</td>\n",
       "      <td>146712.80</td>\n",
       "    </tr>\n",
       "    <tr>\n",
       "      <th>35</th>\n",
       "      <td>101014.02</td>\n",
       "      <td>185047.44</td>\n",
       "      <td>255517.64</td>\n",
       "      <td>Texas</td>\n",
       "      <td>146479.51</td>\n",
       "    </tr>\n",
       "    <tr>\n",
       "      <th>36</th>\n",
       "      <td>83663.76</td>\n",
       "      <td>227056.21</td>\n",
       "      <td>251126.82</td>\n",
       "      <td>Washington</td>\n",
       "      <td>140708.19</td>\n",
       "    </tr>\n",
       "    <tr>\n",
       "      <th>37</th>\n",
       "      <td>99069.95</td>\n",
       "      <td>151283.14</td>\n",
       "      <td>247029.42</td>\n",
       "      <td>Illinois</td>\n",
       "      <td>139949.14</td>\n",
       "    </tr>\n",
       "    <tr>\n",
       "      <th>38</th>\n",
       "      <td>75229.59</td>\n",
       "      <td>165947.93</td>\n",
       "      <td>235265.10</td>\n",
       "      <td>Texas</td>\n",
       "      <td>131229.06</td>\n",
       "    </tr>\n",
       "    <tr>\n",
       "      <th>39</th>\n",
       "      <td>93558.51</td>\n",
       "      <td>182982.09</td>\n",
       "      <td>224999.30</td>\n",
       "      <td>Illinois</td>\n",
       "      <td>131005.76</td>\n",
       "    </tr>\n",
       "    <tr>\n",
       "      <th>40</th>\n",
       "      <td>83754.33</td>\n",
       "      <td>218546.05</td>\n",
       "      <td>222795.67</td>\n",
       "      <td>Illinois</td>\n",
       "      <td>128239.91</td>\n",
       "    </tr>\n",
       "    <tr>\n",
       "      <th>41</th>\n",
       "      <td>82892.92</td>\n",
       "      <td>184710.77</td>\n",
       "      <td>214470.71</td>\n",
       "      <td>Washington</td>\n",
       "      <td>127798.83</td>\n",
       "    </tr>\n",
       "    <tr>\n",
       "      <th>42</th>\n",
       "      <td>78640.93</td>\n",
       "      <td>196189.63</td>\n",
       "      <td>198001.11</td>\n",
       "      <td>Illinois</td>\n",
       "      <td>121498.49</td>\n",
       "    </tr>\n",
       "    <tr>\n",
       "      <th>43</th>\n",
       "      <td>70505.73</td>\n",
       "      <td>227382.30</td>\n",
       "      <td>85534.17</td>\n",
       "      <td>Texas</td>\n",
       "      <td>119758.98</td>\n",
       "    </tr>\n",
       "    <tr>\n",
       "      <th>44</th>\n",
       "      <td>77177.74</td>\n",
       "      <td>254806.14</td>\n",
       "      <td>78334.72</td>\n",
       "      <td>Illinois</td>\n",
       "      <td>115200.33</td>\n",
       "    </tr>\n",
       "    <tr>\n",
       "      <th>45</th>\n",
       "      <td>56000.23</td>\n",
       "      <td>224153.04</td>\n",
       "      <td>51903.93</td>\n",
       "      <td>Texas</td>\n",
       "      <td>114926.08</td>\n",
       "    </tr>\n",
       "    <tr>\n",
       "      <th>46</th>\n",
       "      <td>56315.46</td>\n",
       "      <td>215816.21</td>\n",
       "      <td>347114.46</td>\n",
       "      <td>Washington</td>\n",
       "      <td>99490.75</td>\n",
       "    </tr>\n",
       "    <tr>\n",
       "      <th>47</th>\n",
       "      <td>55000.00</td>\n",
       "      <td>235426.92</td>\n",
       "      <td>50000.00</td>\n",
       "      <td>Illinois</td>\n",
       "      <td>92559.73</td>\n",
       "    </tr>\n",
       "    <tr>\n",
       "      <th>48</th>\n",
       "      <td>55542.05</td>\n",
       "      <td>151743.15</td>\n",
       "      <td>50000.00</td>\n",
       "      <td>Texas</td>\n",
       "      <td>85673.41</td>\n",
       "    </tr>\n",
       "    <tr>\n",
       "      <th>49</th>\n",
       "      <td>55000.00</td>\n",
       "      <td>216983.80</td>\n",
       "      <td>95173.06</td>\n",
       "      <td>Illinois</td>\n",
       "      <td>64681.40</td>\n",
       "    </tr>\n",
       "  </tbody>\n",
       "</table>\n",
       "</div>"
      ],
      "text/plain": [
       "    Productivity_Exp  Management_Exp  Promotions_Exp       State     Profit\n",
       "0          220349.20       236897.80       521784.10       Texas  242261.83\n",
       "1          217597.70       251377.59       493898.53    Illinois  241792.06\n",
       "2          208441.51       201145.55       457934.54  Washington  241050.39\n",
       "3          199372.41       218671.85       433199.62       Texas  232901.99\n",
       "4          197107.34       191391.77       416168.42  Washington  216187.94\n",
       "5          186876.90       199814.71       412861.36       Texas  206991.12\n",
       "6          189615.46       247198.87       177716.82    Illinois  206122.51\n",
       "7          185298.13       245530.06       373876.68  Washington  205752.60\n",
       "8          175542.52       248718.95       361613.29       Texas  202211.77\n",
       "9          178334.88       208679.17       354981.62    Illinois  199759.96\n",
       "10         156913.08       210594.11       279160.95  Washington  196121.95\n",
       "11         155671.96       191790.61       299744.55    Illinois  194259.40\n",
       "12         148863.75       227320.38       299839.44  Washington  191585.52\n",
       "13         146992.39       235495.07       302664.93    Illinois  184307.35\n",
       "14         174943.24       256547.42       306512.92  Washington  182602.65\n",
       "15         169523.61       222616.84       311776.23       Texas  179917.04\n",
       "16         133013.11       221597.55       314346.06    Illinois  176992.93\n",
       "17         149657.16       245077.58       332574.31       Texas  175370.37\n",
       "18         146749.16       214175.79       344919.57  Washington  174266.90\n",
       "19         141419.70       253514.11        50000.00       Texas  172776.86\n",
       "20         131253.86       213867.30       348664.47    Illinois  168474.03\n",
       "21         133389.47       253773.43       349737.29       Texas  161313.02\n",
       "22         128994.56       222782.75       353319.26  Washington  160352.25\n",
       "23         122532.53       205751.03       354768.73  Washington  158733.99\n",
       "24         132044.01       199281.34       190574.81       Texas  158552.04\n",
       "25         119664.71       239553.16       187962.62    Illinois  157404.34\n",
       "26         130328.87       244135.98       184050.07  Washington  155733.54\n",
       "27         127107.60       227864.55       403183.81       Texas  155008.31\n",
       "28         121051.52       282645.56       168148.20  Washington  153282.38\n",
       "29         120605.48       253032.06       157138.38       Texas  151004.64\n",
       "30         116994.48       215641.28       141131.24  Washington  149937.59\n",
       "31         116136.38       252701.92       138218.23       Texas  147483.56\n",
       "32         118408.86       229219.61        96085.25    Illinois  147427.84\n",
       "33         110493.95       203057.49       264634.81  Washington  146778.92\n",
       "34         101426.07       257693.92       260797.67    Illinois  146712.80\n",
       "35         101014.02       185047.44       255517.64       Texas  146479.51\n",
       "36          83663.76       227056.21       251126.82  Washington  140708.19\n",
       "37          99069.95       151283.14       247029.42    Illinois  139949.14\n",
       "38          75229.59       165947.93       235265.10       Texas  131229.06\n",
       "39          93558.51       182982.09       224999.30    Illinois  131005.76\n",
       "40          83754.33       218546.05       222795.67    Illinois  128239.91\n",
       "41          82892.92       184710.77       214470.71  Washington  127798.83\n",
       "42          78640.93       196189.63       198001.11    Illinois  121498.49\n",
       "43          70505.73       227382.30        85534.17       Texas  119758.98\n",
       "44          77177.74       254806.14        78334.72    Illinois  115200.33\n",
       "45          56000.23       224153.04        51903.93       Texas  114926.08\n",
       "46          56315.46       215816.21       347114.46  Washington   99490.75\n",
       "47          55000.00       235426.92        50000.00    Illinois   92559.73\n",
       "48          55542.05       151743.15        50000.00       Texas   85673.41\n",
       "49          55000.00       216983.80        95173.06    Illinois   64681.40"
      ]
     },
     "execution_count": 6,
     "metadata": {},
     "output_type": "execute_result"
    }
   ],
   "source": [
    "c=pd.read_csv(\"companies.csv\")\n",
    "c"
   ]
  },
  {
   "cell_type": "markdown",
   "id": "26d213d0-9c31-4816-8737-65b88cd004d0",
   "metadata": {},
   "source": [
    "# Data dictionary"
   ]
  },
  {
   "cell_type": "code",
   "execution_count": 7,
   "id": "8b1bdb4b-00e8-45d2-9507-940073df814f",
   "metadata": {},
   "outputs": [
    {
     "data": {
      "text/html": [
       "<div>\n",
       "<style scoped>\n",
       "    .dataframe tbody tr th:only-of-type {\n",
       "        vertical-align: middle;\n",
       "    }\n",
       "\n",
       "    .dataframe tbody tr th {\n",
       "        vertical-align: top;\n",
       "    }\n",
       "\n",
       "    .dataframe thead th {\n",
       "        text-align: right;\n",
       "    }\n",
       "</style>\n",
       "<table border=\"1\" class=\"dataframe\">\n",
       "  <thead>\n",
       "    <tr style=\"text-align: right;\">\n",
       "      <th></th>\n",
       "      <th>Productivity_Exp</th>\n",
       "      <th>Management_Exp</th>\n",
       "      <th>Promotions_Exp</th>\n",
       "      <th>State</th>\n",
       "      <th>Profit</th>\n",
       "    </tr>\n",
       "  </thead>\n",
       "  <tbody>\n",
       "    <tr>\n",
       "      <th>0</th>\n",
       "      <td>220349.20</td>\n",
       "      <td>236897.80</td>\n",
       "      <td>521784.10</td>\n",
       "      <td>Texas</td>\n",
       "      <td>242261.83</td>\n",
       "    </tr>\n",
       "    <tr>\n",
       "      <th>1</th>\n",
       "      <td>217597.70</td>\n",
       "      <td>251377.59</td>\n",
       "      <td>493898.53</td>\n",
       "      <td>Illinois</td>\n",
       "      <td>241792.06</td>\n",
       "    </tr>\n",
       "    <tr>\n",
       "      <th>2</th>\n",
       "      <td>208441.51</td>\n",
       "      <td>201145.55</td>\n",
       "      <td>457934.54</td>\n",
       "      <td>Washington</td>\n",
       "      <td>241050.39</td>\n",
       "    </tr>\n",
       "    <tr>\n",
       "      <th>3</th>\n",
       "      <td>199372.41</td>\n",
       "      <td>218671.85</td>\n",
       "      <td>433199.62</td>\n",
       "      <td>Texas</td>\n",
       "      <td>232901.99</td>\n",
       "    </tr>\n",
       "    <tr>\n",
       "      <th>4</th>\n",
       "      <td>197107.34</td>\n",
       "      <td>191391.77</td>\n",
       "      <td>416168.42</td>\n",
       "      <td>Washington</td>\n",
       "      <td>216187.94</td>\n",
       "    </tr>\n",
       "  </tbody>\n",
       "</table>\n",
       "</div>"
      ],
      "text/plain": [
       "   Productivity_Exp  Management_Exp  Promotions_Exp       State     Profit\n",
       "0         220349.20       236897.80       521784.10       Texas  242261.83\n",
       "1         217597.70       251377.59       493898.53    Illinois  241792.06\n",
       "2         208441.51       201145.55       457934.54  Washington  241050.39\n",
       "3         199372.41       218671.85       433199.62       Texas  232901.99\n",
       "4         197107.34       191391.77       416168.42  Washington  216187.94"
      ]
     },
     "execution_count": 7,
     "metadata": {},
     "output_type": "execute_result"
    }
   ],
   "source": [
    "# head()=>refer to top 5 rows in the dataset\n",
    "c.head()\n"
   ]
  },
  {
   "cell_type": "code",
   "execution_count": 8,
   "id": "1d1a0528-b8cf-4b97-8d38-4b69af94a0b1",
   "metadata": {},
   "outputs": [
    {
     "data": {
      "text/html": [
       "<div>\n",
       "<style scoped>\n",
       "    .dataframe tbody tr th:only-of-type {\n",
       "        vertical-align: middle;\n",
       "    }\n",
       "\n",
       "    .dataframe tbody tr th {\n",
       "        vertical-align: top;\n",
       "    }\n",
       "\n",
       "    .dataframe thead th {\n",
       "        text-align: right;\n",
       "    }\n",
       "</style>\n",
       "<table border=\"1\" class=\"dataframe\">\n",
       "  <thead>\n",
       "    <tr style=\"text-align: right;\">\n",
       "      <th></th>\n",
       "      <th>Productivity_Exp</th>\n",
       "      <th>Management_Exp</th>\n",
       "      <th>Promotions_Exp</th>\n",
       "      <th>State</th>\n",
       "      <th>Profit</th>\n",
       "    </tr>\n",
       "  </thead>\n",
       "  <tbody>\n",
       "    <tr>\n",
       "      <th>45</th>\n",
       "      <td>56000.23</td>\n",
       "      <td>224153.04</td>\n",
       "      <td>51903.93</td>\n",
       "      <td>Texas</td>\n",
       "      <td>114926.08</td>\n",
       "    </tr>\n",
       "    <tr>\n",
       "      <th>46</th>\n",
       "      <td>56315.46</td>\n",
       "      <td>215816.21</td>\n",
       "      <td>347114.46</td>\n",
       "      <td>Washington</td>\n",
       "      <td>99490.75</td>\n",
       "    </tr>\n",
       "    <tr>\n",
       "      <th>47</th>\n",
       "      <td>55000.00</td>\n",
       "      <td>235426.92</td>\n",
       "      <td>50000.00</td>\n",
       "      <td>Illinois</td>\n",
       "      <td>92559.73</td>\n",
       "    </tr>\n",
       "    <tr>\n",
       "      <th>48</th>\n",
       "      <td>55542.05</td>\n",
       "      <td>151743.15</td>\n",
       "      <td>50000.00</td>\n",
       "      <td>Texas</td>\n",
       "      <td>85673.41</td>\n",
       "    </tr>\n",
       "    <tr>\n",
       "      <th>49</th>\n",
       "      <td>55000.00</td>\n",
       "      <td>216983.80</td>\n",
       "      <td>95173.06</td>\n",
       "      <td>Illinois</td>\n",
       "      <td>64681.40</td>\n",
       "    </tr>\n",
       "  </tbody>\n",
       "</table>\n",
       "</div>"
      ],
      "text/plain": [
       "    Productivity_Exp  Management_Exp  Promotions_Exp       State     Profit\n",
       "45          56000.23       224153.04        51903.93       Texas  114926.08\n",
       "46          56315.46       215816.21       347114.46  Washington   99490.75\n",
       "47          55000.00       235426.92        50000.00    Illinois   92559.73\n",
       "48          55542.05       151743.15        50000.00       Texas   85673.41\n",
       "49          55000.00       216983.80        95173.06    Illinois   64681.40"
      ]
     },
     "execution_count": 8,
     "metadata": {},
     "output_type": "execute_result"
    }
   ],
   "source": [
    "# tail()=>refer to last 5 rows in the dataset\n",
    "c.tail()"
   ]
  },
  {
   "cell_type": "markdown",
   "id": "bfef85d0-f520-43c0-87bc-b35a348beb67",
   "metadata": {},
   "source": [
    "# Initial checkup"
   ]
  },
  {
   "cell_type": "code",
   "execution_count": null,
   "id": "ba462cde-b8c9-487a-a79b-92fa75cd9440",
   "metadata": {},
   "outputs": [],
   "source": [
    "###  The info() method prints information about the DataFram"
   ]
  },
  {
   "cell_type": "code",
   "execution_count": 9,
   "id": "50dfb97f-7f7f-4b06-88bb-a3c632baee52",
   "metadata": {},
   "outputs": [
    {
     "name": "stdout",
     "output_type": "stream",
     "text": [
      "<class 'pandas.core.frame.DataFrame'>\n",
      "RangeIndex: 50 entries, 0 to 49\n",
      "Data columns (total 5 columns):\n",
      " #   Column            Non-Null Count  Dtype  \n",
      "---  ------            --------------  -----  \n",
      " 0   Productivity_Exp  50 non-null     float64\n",
      " 1   Management_Exp    50 non-null     float64\n",
      " 2   Promotions_Exp    50 non-null     float64\n",
      " 3   State             50 non-null     object \n",
      " 4   Profit            50 non-null     float64\n",
      "dtypes: float64(4), object(1)\n",
      "memory usage: 2.1+ KB\n"
     ]
    }
   ],
   "source": [
    "c.info()"
   ]
  },
  {
   "cell_type": "markdown",
   "id": "1d1f8866-2872-4bc2-bad7-0629371c5241",
   "metadata": {},
   "source": [
    " # .describe()"
   ]
  },
  {
   "cell_type": "markdown",
   "id": "ffc91ab9-a7b8-434d-903c-bf80f516b93b",
   "metadata": {},
   "source": [
    "## The describe() method returns description of the data in the DataFrame.\n",
    "## If the DataFrame contains numerical data, the description contains \n",
    "## these information for each column count - The number of not-empty values. "
   ]
  },
  {
   "cell_type": "code",
   "execution_count": 10,
   "id": "e86ad855-331f-44d8-a32e-36077ac992ad",
   "metadata": {},
   "outputs": [
    {
     "data": {
      "text/html": [
       "<div>\n",
       "<style scoped>\n",
       "    .dataframe tbody tr th:only-of-type {\n",
       "        vertical-align: middle;\n",
       "    }\n",
       "\n",
       "    .dataframe tbody tr th {\n",
       "        vertical-align: top;\n",
       "    }\n",
       "\n",
       "    .dataframe thead th {\n",
       "        text-align: right;\n",
       "    }\n",
       "</style>\n",
       "<table border=\"1\" class=\"dataframe\">\n",
       "  <thead>\n",
       "    <tr style=\"text-align: right;\">\n",
       "      <th></th>\n",
       "      <th>Productivity_Exp</th>\n",
       "      <th>Management_Exp</th>\n",
       "      <th>Promotions_Exp</th>\n",
       "      <th>Profit</th>\n",
       "    </tr>\n",
       "  </thead>\n",
       "  <tbody>\n",
       "    <tr>\n",
       "      <th>count</th>\n",
       "      <td>50.000000</td>\n",
       "      <td>50.000000</td>\n",
       "      <td>50.000000</td>\n",
       "      <td>50.000000</td>\n",
       "    </tr>\n",
       "    <tr>\n",
       "      <th>mean</th>\n",
       "      <td>128721.615600</td>\n",
       "      <td>221344.639600</td>\n",
       "      <td>261025.097800</td>\n",
       "      <td>162012.639200</td>\n",
       "    </tr>\n",
       "    <tr>\n",
       "      <th>std</th>\n",
       "      <td>45902.256482</td>\n",
       "      <td>28017.802755</td>\n",
       "      <td>122290.310726</td>\n",
       "      <td>40306.180338</td>\n",
       "    </tr>\n",
       "    <tr>\n",
       "      <th>min</th>\n",
       "      <td>55000.000000</td>\n",
       "      <td>151283.140000</td>\n",
       "      <td>50000.000000</td>\n",
       "      <td>64681.400000</td>\n",
       "    </tr>\n",
       "    <tr>\n",
       "      <th>25%</th>\n",
       "      <td>94936.370000</td>\n",
       "      <td>203730.875000</td>\n",
       "      <td>179300.132500</td>\n",
       "      <td>140138.902500</td>\n",
       "    </tr>\n",
       "    <tr>\n",
       "      <th>50%</th>\n",
       "      <td>128051.080000</td>\n",
       "      <td>222699.795000</td>\n",
       "      <td>262716.240000</td>\n",
       "      <td>157978.190000</td>\n",
       "    </tr>\n",
       "    <tr>\n",
       "      <th>75%</th>\n",
       "      <td>156602.800000</td>\n",
       "      <td>244842.180000</td>\n",
       "      <td>349469.085000</td>\n",
       "      <td>189765.977500</td>\n",
       "    </tr>\n",
       "    <tr>\n",
       "      <th>max</th>\n",
       "      <td>220349.200000</td>\n",
       "      <td>282645.560000</td>\n",
       "      <td>521784.100000</td>\n",
       "      <td>242261.830000</td>\n",
       "    </tr>\n",
       "  </tbody>\n",
       "</table>\n",
       "</div>"
      ],
      "text/plain": [
       "       Productivity_Exp  Management_Exp  Promotions_Exp         Profit\n",
       "count         50.000000       50.000000       50.000000      50.000000\n",
       "mean      128721.615600   221344.639600   261025.097800  162012.639200\n",
       "std        45902.256482    28017.802755   122290.310726   40306.180338\n",
       "min        55000.000000   151283.140000    50000.000000   64681.400000\n",
       "25%        94936.370000   203730.875000   179300.132500  140138.902500\n",
       "50%       128051.080000   222699.795000   262716.240000  157978.190000\n",
       "75%       156602.800000   244842.180000   349469.085000  189765.977500\n",
       "max       220349.200000   282645.560000   521784.100000  242261.830000"
      ]
     },
     "execution_count": 10,
     "metadata": {},
     "output_type": "execute_result"
    }
   ],
   "source": [
    "c.describe()"
   ]
  },
  {
   "cell_type": "code",
   "execution_count": 11,
   "id": "29a56bff-3aba-4289-8be4-e7eb9c3275a3",
   "metadata": {},
   "outputs": [
    {
     "data": {
      "text/plain": [
       "(50, 5)"
      ]
     },
     "execution_count": 11,
     "metadata": {},
     "output_type": "execute_result"
    }
   ],
   "source": [
    "c.shape"
   ]
  },
  {
   "cell_type": "markdown",
   "id": "7c79084e-e9d1-4acf-bfd6-cc861ee4d0ce",
   "metadata": {},
   "source": [
    "# Data visulization"
   ]
  },
  {
   "cell_type": "code",
   "execution_count": 12,
   "id": "9912609a-79ce-43f6-921b-d6e0ab09abd1",
   "metadata": {},
   "outputs": [
    {
     "data": {
      "text/plain": [
       "<Axes: xlabel='Productivity_Exp', ylabel='Profit'>"
      ]
     },
     "execution_count": 12,
     "metadata": {},
     "output_type": "execute_result"
    },
    {
     "data": {
      "image/png": "[encoded data removed]",
      "text/plain": [
       "<Figure size 640x480 with 1 Axes>"
      ]
     },
     "metadata": {},
     "output_type": "display_data"
    }
   ],
   "source": [
    "sns.scatterplot(c,x=\"Productivity_Exp\",y=\"Profit\")"
   ]
  },
  {
   "cell_type": "code",
   "execution_count": null,
   "id": "40a2d5e4-9eda-4fec-ad21-4534cbcfa40b",
   "metadata": {},
   "outputs": [],
   "source": [
    "Insights:It reveals the relationship between the Productivity_Exp and Profit"
   ]
  },
  {
   "cell_type": "code",
   "execution_count": 13,
   "id": "e66dc8c4-332f-41a6-906b-8ce02c42f685",
   "metadata": {},
   "outputs": [
    {
     "data": {
      "text/plain": [
       "<Axes: xlabel='Management_Exp', ylabel='Profit'>"
      ]
     },
     "execution_count": 13,
     "metadata": {},
     "output_type": "execute_result"
    },
    {
     "data": {
      "image/png": "[encoded data removed]",
      "text/plain": [
       "<Figure size 640x480 with 1 Axes>"
      ]
     },
     "metadata": {},
     "output_type": "display_data"
    }
   ],
   "source": [
    "sns.scatterplot(c,y='Profit',x='Management_Exp')"
   ]
  },
  {
   "cell_type": "code",
   "execution_count": 12,
   "id": "071621fb-9238-4f96-ba45-1b8d48c262ad",
   "metadata": {},
   "outputs": [
    {
     "name": "stderr",
     "output_type": "stream",
     "text": [
      "C:\\Users\\PC\\anaconda3\\Lib\\site-packages\\seaborn\\_oldcore.py:1119: FutureWarning: use_inf_as_na option is deprecated and will be removed in a future version. Convert inf values to NaN before operating instead.\n",
      "  with pd.option_context('mode.use_inf_as_na', True):\n"
     ]
    },
    {
     "data": {
      "text/plain": [
       "<Axes: xlabel='Productivity_Exp', ylabel='Density'>"
      ]
     },
     "execution_count": 12,
     "metadata": {},
     "output_type": "execute_result"
    },
    {
     "data": {
      "image/png": "[encoded data removed]",
      "text/plain": [
       "<Figure size 640x480 with 1 Axes>"
      ]
     },
     "metadata": {},
     "output_type": "display_data"
    }
   ],
   "source": [
    "sns.kdeplot(data=df,x=\"Productivity_Exp\")"
   ]
  },
  {
   "cell_type": "code",
   "execution_count": 14,
   "id": "b62dae39-e7eb-4933-ae28-5483e1b4ecd6",
   "metadata": {},
   "outputs": [
    {
     "data": {
      "text/plain": [
       "<Axes: xlabel='State', ylabel='Productivity_Exp'>"
      ]
     },
     "execution_count": 14,
     "metadata": {},
     "output_type": "execute_result"
    },
    {
     "data": {
      "image/png": "[encoded data removed]",
      "text/plain": [
       "<Figure size 640x480 with 1 Axes>"
      ]
     },
     "metadata": {},
     "output_type": "display_data"
    }
   ],
   "source": [
    "sns.barplot(c,x='State',y='Productivity_Exp')"
   ]
  },
  {
   "cell_type": "code",
   "execution_count": null,
   "id": "5eabc21a-4ee4-4e10-b406-a5ad398f1aaf",
   "metadata": {},
   "outputs": [],
   "source": [
    "Insights : It shows the difference between state and Productivity_Exp. "
   ]
  },
  {
   "cell_type": "code",
   "execution_count": 15,
   "id": "3f1f6b26-dbe4-4d64-b896-9f3ac3a5c06a",
   "metadata": {},
   "outputs": [],
   "source": [
    "data = pd.get_dummies(c,columns=['State'], drop_first=False)"
   ]
  },
  {
   "cell_type": "code",
   "execution_count": 17,
   "id": "4d5b8b93-1c0d-4684-bfb6-3f6340b8e40a",
   "metadata": {},
   "outputs": [
    {
     "data": {
      "text/html": [
       "<div>\n",
       "<style scoped>\n",
       "    .dataframe tbody tr th:only-of-type {\n",
       "        vertical-align: middle;\n",
       "    }\n",
       "\n",
       "    .dataframe tbody tr th {\n",
       "        vertical-align: top;\n",
       "    }\n",
       "\n",
       "    .dataframe thead th {\n",
       "        text-align: right;\n",
       "    }\n",
       "</style>\n",
       "<table border=\"1\" class=\"dataframe\">\n",
       "  <thead>\n",
       "    <tr style=\"text-align: right;\">\n",
       "      <th></th>\n",
       "      <th>Productivity_Exp</th>\n",
       "      <th>Management_Exp</th>\n",
       "      <th>Promotions_Exp</th>\n",
       "      <th>Profit</th>\n",
       "      <th>State_Illinois</th>\n",
       "      <th>State_Texas</th>\n",
       "      <th>State_Washington</th>\n",
       "    </tr>\n",
       "  </thead>\n",
       "  <tbody>\n",
       "    <tr>\n",
       "      <th>0</th>\n",
       "      <td>220349.20</td>\n",
       "      <td>236897.80</td>\n",
       "      <td>521784.10</td>\n",
       "      <td>242261.83</td>\n",
       "      <td>False</td>\n",
       "      <td>True</td>\n",
       "      <td>False</td>\n",
       "    </tr>\n",
       "    <tr>\n",
       "      <th>1</th>\n",
       "      <td>217597.70</td>\n",
       "      <td>251377.59</td>\n",
       "      <td>493898.53</td>\n",
       "      <td>241792.06</td>\n",
       "      <td>True</td>\n",
       "      <td>False</td>\n",
       "      <td>False</td>\n",
       "    </tr>\n",
       "    <tr>\n",
       "      <th>2</th>\n",
       "      <td>208441.51</td>\n",
       "      <td>201145.55</td>\n",
       "      <td>457934.54</td>\n",
       "      <td>241050.39</td>\n",
       "      <td>False</td>\n",
       "      <td>False</td>\n",
       "      <td>True</td>\n",
       "    </tr>\n",
       "    <tr>\n",
       "      <th>3</th>\n",
       "      <td>199372.41</td>\n",
       "      <td>218671.85</td>\n",
       "      <td>433199.62</td>\n",
       "      <td>232901.99</td>\n",
       "      <td>False</td>\n",
       "      <td>True</td>\n",
       "      <td>False</td>\n",
       "    </tr>\n",
       "    <tr>\n",
       "      <th>4</th>\n",
       "      <td>197107.34</td>\n",
       "      <td>191391.77</td>\n",
       "      <td>416168.42</td>\n",
       "      <td>216187.94</td>\n",
       "      <td>False</td>\n",
       "      <td>False</td>\n",
       "      <td>True</td>\n",
       "    </tr>\n",
       "  </tbody>\n",
       "</table>\n",
       "</div>"
      ],
      "text/plain": [
       "   Productivity_Exp  Management_Exp  Promotions_Exp     Profit  \\\n",
       "0         220349.20       236897.80       521784.10  242261.83   \n",
       "1         217597.70       251377.59       493898.53  241792.06   \n",
       "2         208441.51       201145.55       457934.54  241050.39   \n",
       "3         199372.41       218671.85       433199.62  232901.99   \n",
       "4         197107.34       191391.77       416168.42  216187.94   \n",
       "\n",
       "   State_Illinois  State_Texas  State_Washington  \n",
       "0           False         True             False  \n",
       "1            True        False             False  \n",
       "2           False        False              True  \n",
       "3           False         True             False  \n",
       "4           False        False              True  "
      ]
     },
     "execution_count": 17,
     "metadata": {},
     "output_type": "execute_result"
    }
   ],
   "source": [
    "data.head()"
   ]
  },
  {
   "cell_type": "code",
   "execution_count": 34,
   "id": "a9b56055-3a9e-46d1-b9f7-a20e6c839fbc",
   "metadata": {},
   "outputs": [],
   "source": [
    "#corr is relation b/w a pair of variables"
   ]
  },
  {
   "cell_type": "code",
   "execution_count": 18,
   "id": "82315d3f-2e61-4cb2-a784-1d7fb8e37d44",
   "metadata": {},
   "outputs": [
    {
     "data": {
      "text/html": [
       "<div>\n",
       "<style scoped>\n",
       "    .dataframe tbody tr th:only-of-type {\n",
       "        vertical-align: middle;\n",
       "    }\n",
       "\n",
       "    .dataframe tbody tr th {\n",
       "        vertical-align: top;\n",
       "    }\n",
       "\n",
       "    .dataframe thead th {\n",
       "        text-align: right;\n",
       "    }\n",
       "</style>\n",
       "<table border=\"1\" class=\"dataframe\">\n",
       "  <thead>\n",
       "    <tr style=\"text-align: right;\">\n",
       "      <th></th>\n",
       "      <th>Productivity_Exp</th>\n",
       "      <th>Management_Exp</th>\n",
       "      <th>Promotions_Exp</th>\n",
       "      <th>Profit</th>\n",
       "      <th>State_Illinois</th>\n",
       "      <th>State_Texas</th>\n",
       "      <th>State_Washington</th>\n",
       "    </tr>\n",
       "  </thead>\n",
       "  <tbody>\n",
       "    <tr>\n",
       "      <th>Productivity_Exp</th>\n",
       "      <td>1.000000</td>\n",
       "      <td>0.241955</td>\n",
       "      <td>0.724248</td>\n",
       "      <td>0.972900</td>\n",
       "      <td>-0.143165</td>\n",
       "      <td>0.039068</td>\n",
       "      <td>0.105711</td>\n",
       "    </tr>\n",
       "    <tr>\n",
       "      <th>Management_Exp</th>\n",
       "      <td>0.241955</td>\n",
       "      <td>1.000000</td>\n",
       "      <td>-0.032154</td>\n",
       "      <td>0.200717</td>\n",
       "      <td>-0.015478</td>\n",
       "      <td>0.005145</td>\n",
       "      <td>0.010493</td>\n",
       "    </tr>\n",
       "    <tr>\n",
       "      <th>Promotions_Exp</th>\n",
       "      <td>0.724248</td>\n",
       "      <td>-0.032154</td>\n",
       "      <td>1.000000</td>\n",
       "      <td>0.747766</td>\n",
       "      <td>-0.168875</td>\n",
       "      <td>-0.033670</td>\n",
       "      <td>0.205685</td>\n",
       "    </tr>\n",
       "    <tr>\n",
       "      <th>Profit</th>\n",
       "      <td>0.972900</td>\n",
       "      <td>0.200717</td>\n",
       "      <td>0.747766</td>\n",
       "      <td>1.000000</td>\n",
       "      <td>-0.145837</td>\n",
       "      <td>0.031368</td>\n",
       "      <td>0.116244</td>\n",
       "    </tr>\n",
       "    <tr>\n",
       "      <th>State_Illinois</th>\n",
       "      <td>-0.143165</td>\n",
       "      <td>-0.015478</td>\n",
       "      <td>-0.168875</td>\n",
       "      <td>-0.145837</td>\n",
       "      <td>1.000000</td>\n",
       "      <td>-0.515152</td>\n",
       "      <td>-0.492366</td>\n",
       "    </tr>\n",
       "    <tr>\n",
       "      <th>State_Texas</th>\n",
       "      <td>0.039068</td>\n",
       "      <td>0.005145</td>\n",
       "      <td>-0.033670</td>\n",
       "      <td>0.031368</td>\n",
       "      <td>-0.515152</td>\n",
       "      <td>1.000000</td>\n",
       "      <td>-0.492366</td>\n",
       "    </tr>\n",
       "    <tr>\n",
       "      <th>State_Washington</th>\n",
       "      <td>0.105711</td>\n",
       "      <td>0.010493</td>\n",
       "      <td>0.205685</td>\n",
       "      <td>0.116244</td>\n",
       "      <td>-0.492366</td>\n",
       "      <td>-0.492366</td>\n",
       "      <td>1.000000</td>\n",
       "    </tr>\n",
       "  </tbody>\n",
       "</table>\n",
       "</div>"
      ],
      "text/plain": [
       "                  Productivity_Exp  Management_Exp  Promotions_Exp    Profit  \\\n",
       "Productivity_Exp          1.000000        0.241955        0.724248  0.972900   \n",
       "Management_Exp            0.241955        1.000000       -0.032154  0.200717   \n",
       "Promotions_Exp            0.724248       -0.032154        1.000000  0.747766   \n",
       "Profit                    0.972900        0.200717        0.747766  1.000000   \n",
       "State_Illinois           -0.143165       -0.015478       -0.168875 -0.145837   \n",
       "State_Texas               0.039068        0.005145       -0.033670  0.031368   \n",
       "State_Washington          0.105711        0.010493        0.205685  0.116244   \n",
       "\n",
       "                  State_Illinois  State_Texas  State_Washington  \n",
       "Productivity_Exp       -0.143165     0.039068          0.105711  \n",
       "Management_Exp         -0.015478     0.005145          0.010493  \n",
       "Promotions_Exp         -0.168875    -0.033670          0.205685  \n",
       "Profit                 -0.145837     0.031368          0.116244  \n",
       "State_Illinois          1.000000    -0.515152         -0.492366  \n",
       "State_Texas            -0.515152     1.000000         -0.492366  \n",
       "State_Washington       -0.492366    -0.492366          1.000000  "
      ]
     },
     "execution_count": 18,
     "metadata": {},
     "output_type": "execute_result"
    }
   ],
   "source": [
    "data.corr()"
   ]
  },
  {
   "cell_type": "code",
   "execution_count": 19,
   "id": "c5f72b72-6849-4492-b474-9926bd6f10eb",
   "metadata": {},
   "outputs": [],
   "source": [
    "data1=data.drop(columns=['Profit'])"
   ]
  },
  {
   "cell_type": "code",
   "execution_count": 20,
   "id": "9aef8f83-d7f8-4c1d-bf90-a3fc8015e9c0",
   "metadata": {},
   "outputs": [
    {
     "data": {
      "text/html": [
       "<div>\n",
       "<style scoped>\n",
       "    .dataframe tbody tr th:only-of-type {\n",
       "        vertical-align: middle;\n",
       "    }\n",
       "\n",
       "    .dataframe tbody tr th {\n",
       "        vertical-align: top;\n",
       "    }\n",
       "\n",
       "    .dataframe thead th {\n",
       "        text-align: right;\n",
       "    }\n",
       "</style>\n",
       "<table border=\"1\" class=\"dataframe\">\n",
       "  <thead>\n",
       "    <tr style=\"text-align: right;\">\n",
       "      <th></th>\n",
       "      <th>Productivity_Exp</th>\n",
       "      <th>Management_Exp</th>\n",
       "      <th>Promotions_Exp</th>\n",
       "      <th>State_Illinois</th>\n",
       "      <th>State_Texas</th>\n",
       "      <th>State_Washington</th>\n",
       "    </tr>\n",
       "  </thead>\n",
       "  <tbody>\n",
       "    <tr>\n",
       "      <th>45</th>\n",
       "      <td>56000.23</td>\n",
       "      <td>224153.04</td>\n",
       "      <td>51903.93</td>\n",
       "      <td>False</td>\n",
       "      <td>True</td>\n",
       "      <td>False</td>\n",
       "    </tr>\n",
       "    <tr>\n",
       "      <th>46</th>\n",
       "      <td>56315.46</td>\n",
       "      <td>215816.21</td>\n",
       "      <td>347114.46</td>\n",
       "      <td>False</td>\n",
       "      <td>False</td>\n",
       "      <td>True</td>\n",
       "    </tr>\n",
       "    <tr>\n",
       "      <th>47</th>\n",
       "      <td>55000.00</td>\n",
       "      <td>235426.92</td>\n",
       "      <td>50000.00</td>\n",
       "      <td>True</td>\n",
       "      <td>False</td>\n",
       "      <td>False</td>\n",
       "    </tr>\n",
       "    <tr>\n",
       "      <th>48</th>\n",
       "      <td>55542.05</td>\n",
       "      <td>151743.15</td>\n",
       "      <td>50000.00</td>\n",
       "      <td>False</td>\n",
       "      <td>True</td>\n",
       "      <td>False</td>\n",
       "    </tr>\n",
       "    <tr>\n",
       "      <th>49</th>\n",
       "      <td>55000.00</td>\n",
       "      <td>216983.80</td>\n",
       "      <td>95173.06</td>\n",
       "      <td>True</td>\n",
       "      <td>False</td>\n",
       "      <td>False</td>\n",
       "    </tr>\n",
       "  </tbody>\n",
       "</table>\n",
       "</div>"
      ],
      "text/plain": [
       "    Productivity_Exp  Management_Exp  Promotions_Exp  State_Illinois  \\\n",
       "45          56000.23       224153.04        51903.93           False   \n",
       "46          56315.46       215816.21       347114.46           False   \n",
       "47          55000.00       235426.92        50000.00            True   \n",
       "48          55542.05       151743.15        50000.00           False   \n",
       "49          55000.00       216983.80        95173.06            True   \n",
       "\n",
       "    State_Texas  State_Washington  \n",
       "45         True             False  \n",
       "46        False              True  \n",
       "47        False             False  \n",
       "48         True             False  \n",
       "49        False             False  "
      ]
     },
     "execution_count": 20,
     "metadata": {},
     "output_type": "execute_result"
    }
   ],
   "source": [
    "data1.tail()"
   ]
  },
  {
   "cell_type": "code",
   "execution_count": 21,
   "id": "e8ded5ab-4b1b-432e-99c0-8d615718102a",
   "metadata": {},
   "outputs": [
    {
     "data": {
      "text/html": [
       "<div>\n",
       "<style scoped>\n",
       "    .dataframe tbody tr th:only-of-type {\n",
       "        vertical-align: middle;\n",
       "    }\n",
       "\n",
       "    .dataframe tbody tr th {\n",
       "        vertical-align: top;\n",
       "    }\n",
       "\n",
       "    .dataframe thead th {\n",
       "        text-align: right;\n",
       "    }\n",
       "</style>\n",
       "<table border=\"1\" class=\"dataframe\">\n",
       "  <thead>\n",
       "    <tr style=\"text-align: right;\">\n",
       "      <th></th>\n",
       "      <th>Productivity_Exp</th>\n",
       "      <th>Management_Exp</th>\n",
       "      <th>Promotions_Exp</th>\n",
       "      <th>State_Illinois</th>\n",
       "      <th>State_Texas</th>\n",
       "      <th>State_Washington</th>\n",
       "    </tr>\n",
       "  </thead>\n",
       "  <tbody>\n",
       "    <tr>\n",
       "      <th>0</th>\n",
       "      <td>220349.20</td>\n",
       "      <td>236897.80</td>\n",
       "      <td>521784.10</td>\n",
       "      <td>False</td>\n",
       "      <td>True</td>\n",
       "      <td>False</td>\n",
       "    </tr>\n",
       "    <tr>\n",
       "      <th>1</th>\n",
       "      <td>217597.70</td>\n",
       "      <td>251377.59</td>\n",
       "      <td>493898.53</td>\n",
       "      <td>True</td>\n",
       "      <td>False</td>\n",
       "      <td>False</td>\n",
       "    </tr>\n",
       "    <tr>\n",
       "      <th>2</th>\n",
       "      <td>208441.51</td>\n",
       "      <td>201145.55</td>\n",
       "      <td>457934.54</td>\n",
       "      <td>False</td>\n",
       "      <td>False</td>\n",
       "      <td>True</td>\n",
       "    </tr>\n",
       "    <tr>\n",
       "      <th>3</th>\n",
       "      <td>199372.41</td>\n",
       "      <td>218671.85</td>\n",
       "      <td>433199.62</td>\n",
       "      <td>False</td>\n",
       "      <td>True</td>\n",
       "      <td>False</td>\n",
       "    </tr>\n",
       "    <tr>\n",
       "      <th>4</th>\n",
       "      <td>197107.34</td>\n",
       "      <td>191391.77</td>\n",
       "      <td>416168.42</td>\n",
       "      <td>False</td>\n",
       "      <td>False</td>\n",
       "      <td>True</td>\n",
       "    </tr>\n",
       "  </tbody>\n",
       "</table>\n",
       "</div>"
      ],
      "text/plain": [
       "   Productivity_Exp  Management_Exp  Promotions_Exp  State_Illinois  \\\n",
       "0         220349.20       236897.80       521784.10           False   \n",
       "1         217597.70       251377.59       493898.53            True   \n",
       "2         208441.51       201145.55       457934.54           False   \n",
       "3         199372.41       218671.85       433199.62           False   \n",
       "4         197107.34       191391.77       416168.42           False   \n",
       "\n",
       "   State_Texas  State_Washington  \n",
       "0         True             False  \n",
       "1        False             False  \n",
       "2        False              True  \n",
       "3         True             False  \n",
       "4        False              True  "
      ]
     },
     "execution_count": 21,
     "metadata": {},
     "output_type": "execute_result"
    }
   ],
   "source": [
    "data1.head()"
   ]
  },
  {
   "cell_type": "code",
   "execution_count": 22,
   "id": "52771084-5b1f-4ec3-bb5a-79e48596749c",
   "metadata": {},
   "outputs": [],
   "source": [
    "data2=data.iloc[:,3:4]"
   ]
  },
  {
   "cell_type": "code",
   "execution_count": 23,
   "id": "04a47578-35d7-4277-8ab1-d0e68a9bd67e",
   "metadata": {},
   "outputs": [
    {
     "data": {
      "text/html": [
       "<div>\n",
       "<style scoped>\n",
       "    .dataframe tbody tr th:only-of-type {\n",
       "        vertical-align: middle;\n",
       "    }\n",
       "\n",
       "    .dataframe tbody tr th {\n",
       "        vertical-align: top;\n",
       "    }\n",
       "\n",
       "    .dataframe thead th {\n",
       "        text-align: right;\n",
       "    }\n",
       "</style>\n",
       "<table border=\"1\" class=\"dataframe\">\n",
       "  <thead>\n",
       "    <tr style=\"text-align: right;\">\n",
       "      <th></th>\n",
       "      <th>Profit</th>\n",
       "    </tr>\n",
       "  </thead>\n",
       "  <tbody>\n",
       "    <tr>\n",
       "      <th>0</th>\n",
       "      <td>242261.83</td>\n",
       "    </tr>\n",
       "    <tr>\n",
       "      <th>1</th>\n",
       "      <td>241792.06</td>\n",
       "    </tr>\n",
       "    <tr>\n",
       "      <th>2</th>\n",
       "      <td>241050.39</td>\n",
       "    </tr>\n",
       "    <tr>\n",
       "      <th>3</th>\n",
       "      <td>232901.99</td>\n",
       "    </tr>\n",
       "    <tr>\n",
       "      <th>4</th>\n",
       "      <td>216187.94</td>\n",
       "    </tr>\n",
       "  </tbody>\n",
       "</table>\n",
       "</div>"
      ],
      "text/plain": [
       "      Profit\n",
       "0  242261.83\n",
       "1  241792.06\n",
       "2  241050.39\n",
       "3  232901.99\n",
       "4  216187.94"
      ]
     },
     "execution_count": 23,
     "metadata": {},
     "output_type": "execute_result"
    }
   ],
   "source": [
    "data2.head()"
   ]
  },
  {
   "cell_type": "markdown",
   "id": "4f1a2066-a810-46f0-978f-c075f340785d",
   "metadata": {},
   "source": [
    "# Train_test_spilt"
   ]
  },
  {
   "cell_type": "code",
   "execution_count": null,
   "id": "53c04b21-58c5-4c8b-b9c4-752ffa3bedca",
   "metadata": {},
   "outputs": [],
   "source": [
    "#### Train/Test is a method to measure the accuracy of your model.\n",
    "#### It is called Train/Test because you split the data set into two sets:\n",
    "#### a training set and a testing set. 80% for training, and 20% for testing."
   ]
  },
  {
   "cell_type": "code",
   "execution_count": null,
   "id": "72af709d-bb36-4ff1-bca7-b90c375b451e",
   "metadata": {},
   "outputs": [],
   "source": [
    "x_train : The training part of the first sequence( x ) \n",
    "x_test : The test part of the first sequence ( x )\n",
    "y_train : The training part of the second sequence ( y )\n",
    "y_test : The test part of the second sequence ( y )"
   ]
  },
  {
   "cell_type": "code",
   "execution_count": 24,
   "id": "a43942c7-ad27-4d10-b2ba-6dc9550aca91",
   "metadata": {},
   "outputs": [],
   "source": [
    "from sklearn.model_selection import train_test_split\n",
    "x_train,x_test,y_train,y_test=train_test_split(data1,data2,test_size=0.2,random_state=2)"
   ]
  },
  {
   "cell_type": "code",
   "execution_count": 25,
   "id": "19f83375-9ceb-4a52-8857-3f8d01681ece",
   "metadata": {},
   "outputs": [
    {
     "data": {
      "text/html": [
       "<div>\n",
       "<style scoped>\n",
       "    .dataframe tbody tr th:only-of-type {\n",
       "        vertical-align: middle;\n",
       "    }\n",
       "\n",
       "    .dataframe tbody tr th {\n",
       "        vertical-align: top;\n",
       "    }\n",
       "\n",
       "    .dataframe thead th {\n",
       "        text-align: right;\n",
       "    }\n",
       "</style>\n",
       "<table border=\"1\" class=\"dataframe\">\n",
       "  <thead>\n",
       "    <tr style=\"text-align: right;\">\n",
       "      <th></th>\n",
       "      <th>Productivity_Exp</th>\n",
       "      <th>Management_Exp</th>\n",
       "      <th>Promotions_Exp</th>\n",
       "      <th>State_Illinois</th>\n",
       "      <th>State_Texas</th>\n",
       "      <th>State_Washington</th>\n",
       "    </tr>\n",
       "  </thead>\n",
       "  <tbody>\n",
       "    <tr>\n",
       "      <th>24</th>\n",
       "      <td>132044.01</td>\n",
       "      <td>199281.34</td>\n",
       "      <td>190574.81</td>\n",
       "      <td>False</td>\n",
       "      <td>True</td>\n",
       "      <td>False</td>\n",
       "    </tr>\n",
       "    <tr>\n",
       "      <th>48</th>\n",
       "      <td>55542.05</td>\n",
       "      <td>151743.15</td>\n",
       "      <td>50000.00</td>\n",
       "      <td>False</td>\n",
       "      <td>True</td>\n",
       "      <td>False</td>\n",
       "    </tr>\n",
       "    <tr>\n",
       "      <th>17</th>\n",
       "      <td>149657.16</td>\n",
       "      <td>245077.58</td>\n",
       "      <td>332574.31</td>\n",
       "      <td>False</td>\n",
       "      <td>True</td>\n",
       "      <td>False</td>\n",
       "    </tr>\n",
       "    <tr>\n",
       "      <th>12</th>\n",
       "      <td>148863.75</td>\n",
       "      <td>227320.38</td>\n",
       "      <td>299839.44</td>\n",
       "      <td>False</td>\n",
       "      <td>False</td>\n",
       "      <td>True</td>\n",
       "    </tr>\n",
       "    <tr>\n",
       "      <th>27</th>\n",
       "      <td>127107.60</td>\n",
       "      <td>227864.55</td>\n",
       "      <td>403183.81</td>\n",
       "      <td>False</td>\n",
       "      <td>True</td>\n",
       "      <td>False</td>\n",
       "    </tr>\n",
       "  </tbody>\n",
       "</table>\n",
       "</div>"
      ],
      "text/plain": [
       "    Productivity_Exp  Management_Exp  Promotions_Exp  State_Illinois  \\\n",
       "24         132044.01       199281.34       190574.81           False   \n",
       "48          55542.05       151743.15        50000.00           False   \n",
       "17         149657.16       245077.58       332574.31           False   \n",
       "12         148863.75       227320.38       299839.44           False   \n",
       "27         127107.60       227864.55       403183.81           False   \n",
       "\n",
       "    State_Texas  State_Washington  \n",
       "24         True             False  \n",
       "48         True             False  \n",
       "17         True             False  \n",
       "12        False              True  \n",
       "27         True             False  "
      ]
     },
     "execution_count": 25,
     "metadata": {},
     "output_type": "execute_result"
    }
   ],
   "source": [
    "x_train.head()"
   ]
  },
  {
   "cell_type": "code",
   "execution_count": 26,
   "id": "2baaa1ae-a949-443a-8655-55515cf8c209",
   "metadata": {},
   "outputs": [
    {
     "data": {
      "text/html": [
       "<div>\n",
       "<style scoped>\n",
       "    .dataframe tbody tr th:only-of-type {\n",
       "        vertical-align: middle;\n",
       "    }\n",
       "\n",
       "    .dataframe tbody tr th {\n",
       "        vertical-align: top;\n",
       "    }\n",
       "\n",
       "    .dataframe thead th {\n",
       "        text-align: right;\n",
       "    }\n",
       "</style>\n",
       "<table border=\"1\" class=\"dataframe\">\n",
       "  <thead>\n",
       "    <tr style=\"text-align: right;\">\n",
       "      <th></th>\n",
       "      <th>Productivity_Exp</th>\n",
       "      <th>Management_Exp</th>\n",
       "      <th>Promotions_Exp</th>\n",
       "      <th>State_Illinois</th>\n",
       "      <th>State_Texas</th>\n",
       "      <th>State_Washington</th>\n",
       "    </tr>\n",
       "  </thead>\n",
       "  <tbody>\n",
       "    <tr>\n",
       "      <th>36</th>\n",
       "      <td>83663.76</td>\n",
       "      <td>227056.21</td>\n",
       "      <td>251126.82</td>\n",
       "      <td>False</td>\n",
       "      <td>False</td>\n",
       "      <td>True</td>\n",
       "    </tr>\n",
       "    <tr>\n",
       "      <th>47</th>\n",
       "      <td>55000.00</td>\n",
       "      <td>235426.92</td>\n",
       "      <td>50000.00</td>\n",
       "      <td>True</td>\n",
       "      <td>False</td>\n",
       "      <td>False</td>\n",
       "    </tr>\n",
       "    <tr>\n",
       "      <th>28</th>\n",
       "      <td>121051.52</td>\n",
       "      <td>282645.56</td>\n",
       "      <td>168148.20</td>\n",
       "      <td>False</td>\n",
       "      <td>False</td>\n",
       "      <td>True</td>\n",
       "    </tr>\n",
       "    <tr>\n",
       "      <th>9</th>\n",
       "      <td>178334.88</td>\n",
       "      <td>208679.17</td>\n",
       "      <td>354981.62</td>\n",
       "      <td>True</td>\n",
       "      <td>False</td>\n",
       "      <td>False</td>\n",
       "    </tr>\n",
       "    <tr>\n",
       "      <th>13</th>\n",
       "      <td>146992.39</td>\n",
       "      <td>235495.07</td>\n",
       "      <td>302664.93</td>\n",
       "      <td>True</td>\n",
       "      <td>False</td>\n",
       "      <td>False</td>\n",
       "    </tr>\n",
       "  </tbody>\n",
       "</table>\n",
       "</div>"
      ],
      "text/plain": [
       "    Productivity_Exp  Management_Exp  Promotions_Exp  State_Illinois  \\\n",
       "36          83663.76       227056.21       251126.82           False   \n",
       "47          55000.00       235426.92        50000.00            True   \n",
       "28         121051.52       282645.56       168148.20           False   \n",
       "9          178334.88       208679.17       354981.62            True   \n",
       "13         146992.39       235495.07       302664.93            True   \n",
       "\n",
       "    State_Texas  State_Washington  \n",
       "36        False              True  \n",
       "47        False             False  \n",
       "28        False              True  \n",
       "9         False             False  \n",
       "13        False             False  "
      ]
     },
     "execution_count": 26,
     "metadata": {},
     "output_type": "execute_result"
    }
   ],
   "source": [
    "x_test.head()"
   ]
  },
  {
   "cell_type": "code",
   "execution_count": 27,
   "id": "4ae46630-e73b-4913-b806-cb5deab5fdc8",
   "metadata": {},
   "outputs": [
    {
     "data": {
      "text/plain": [
       "(40, 6)"
      ]
     },
     "execution_count": 27,
     "metadata": {},
     "output_type": "execute_result"
    }
   ],
   "source": [
    "x_train.shape"
   ]
  },
  {
   "cell_type": "code",
   "execution_count": 28,
   "id": "a1d718dd-dbb0-41d1-860e-930db2bfc86e",
   "metadata": {},
   "outputs": [
    {
     "data": {
      "text/plain": [
       "(10, 6)"
      ]
     },
     "execution_count": 28,
     "metadata": {},
     "output_type": "execute_result"
    }
   ],
   "source": [
    "x_test.shape"
   ]
  },
  {
   "cell_type": "markdown",
   "id": "f0dc3c0a-933b-4b2c-8afd-dde308e49a17",
   "metadata": {},
   "source": [
    "# Linear Regression"
   ]
  },
  {
   "cell_type": "markdown",
   "id": "728cc48d-4543-44b8-a906-de511b23a985",
   "metadata": {},
   "source": [
    " Linear regression is a supervised learning algorithm that compares input (X) and output (Y) variables based on labeled data. It's used for finding the relationship between the two variables and predicting future results based on past relationships."
   ]
  },
  {
   "cell_type": "code",
   "execution_count": 29,
   "id": "6d04ec0b-4abc-44ea-bf9e-848dea2363b6",
   "metadata": {},
   "outputs": [],
   "source": [
    "from sklearn.linear_model import LinearRegression "
   ]
  },
  {
   "cell_type": "code",
   "execution_count": 30,
   "id": "736c4b4e-870c-44e3-aa89-7c0ba01e681d",
   "metadata": {},
   "outputs": [],
   "source": [
    "lr=LinearRegression()"
   ]
  },
  {
   "cell_type": "code",
   "execution_count": 31,
   "id": "0d51ddee-3950-40b1-a4cb-372e7ed82223",
   "metadata": {},
   "outputs": [
    {
     "data": {
      "text/html": [
       "<div>\n",
       "<style scoped>\n",
       "    .dataframe tbody tr th:only-of-type {\n",
       "        vertical-align: middle;\n",
       "    }\n",
       "\n",
       "    .dataframe tbody tr th {\n",
       "        vertical-align: top;\n",
       "    }\n",
       "\n",
       "    .dataframe thead th {\n",
       "        text-align: right;\n",
       "    }\n",
       "</style>\n",
       "<table border=\"1\" class=\"dataframe\">\n",
       "  <thead>\n",
       "    <tr style=\"text-align: right;\">\n",
       "      <th></th>\n",
       "      <th>Productivity_Exp</th>\n",
       "      <th>Management_Exp</th>\n",
       "      <th>Promotions_Exp</th>\n",
       "      <th>State_Illinois</th>\n",
       "      <th>State_Texas</th>\n",
       "      <th>State_Washington</th>\n",
       "    </tr>\n",
       "  </thead>\n",
       "  <tbody>\n",
       "    <tr>\n",
       "      <th>24</th>\n",
       "      <td>132044.01</td>\n",
       "      <td>199281.34</td>\n",
       "      <td>190574.81</td>\n",
       "      <td>False</td>\n",
       "      <td>True</td>\n",
       "      <td>False</td>\n",
       "    </tr>\n",
       "    <tr>\n",
       "      <th>48</th>\n",
       "      <td>55542.05</td>\n",
       "      <td>151743.15</td>\n",
       "      <td>50000.00</td>\n",
       "      <td>False</td>\n",
       "      <td>True</td>\n",
       "      <td>False</td>\n",
       "    </tr>\n",
       "    <tr>\n",
       "      <th>17</th>\n",
       "      <td>149657.16</td>\n",
       "      <td>245077.58</td>\n",
       "      <td>332574.31</td>\n",
       "      <td>False</td>\n",
       "      <td>True</td>\n",
       "      <td>False</td>\n",
       "    </tr>\n",
       "    <tr>\n",
       "      <th>12</th>\n",
       "      <td>148863.75</td>\n",
       "      <td>227320.38</td>\n",
       "      <td>299839.44</td>\n",
       "      <td>False</td>\n",
       "      <td>False</td>\n",
       "      <td>True</td>\n",
       "    </tr>\n",
       "    <tr>\n",
       "      <th>27</th>\n",
       "      <td>127107.60</td>\n",
       "      <td>227864.55</td>\n",
       "      <td>403183.81</td>\n",
       "      <td>False</td>\n",
       "      <td>True</td>\n",
       "      <td>False</td>\n",
       "    </tr>\n",
       "  </tbody>\n",
       "</table>\n",
       "</div>"
      ],
      "text/plain": [
       "    Productivity_Exp  Management_Exp  Promotions_Exp  State_Illinois  \\\n",
       "24         132044.01       199281.34       190574.81           False   \n",
       "48          55542.05       151743.15        50000.00           False   \n",
       "17         149657.16       245077.58       332574.31           False   \n",
       "12         148863.75       227320.38       299839.44           False   \n",
       "27         127107.60       227864.55       403183.81           False   \n",
       "\n",
       "    State_Texas  State_Washington  \n",
       "24         True             False  \n",
       "48         True             False  \n",
       "17         True             False  \n",
       "12        False              True  \n",
       "27         True             False  "
      ]
     },
     "execution_count": 31,
     "metadata": {},
     "output_type": "execute_result"
    }
   ],
   "source": [
    "x_train.head()"
   ]
  },
  {
   "cell_type": "code",
   "execution_count": 32,
   "id": "b03c58ee-e491-4f85-8e60-43b35bd3544b",
   "metadata": {},
   "outputs": [
    {
     "data": {
      "text/html": [
       "<div>\n",
       "<style scoped>\n",
       "    .dataframe tbody tr th:only-of-type {\n",
       "        vertical-align: middle;\n",
       "    }\n",
       "\n",
       "    .dataframe tbody tr th {\n",
       "        vertical-align: top;\n",
       "    }\n",
       "\n",
       "    .dataframe thead th {\n",
       "        text-align: right;\n",
       "    }\n",
       "</style>\n",
       "<table border=\"1\" class=\"dataframe\">\n",
       "  <thead>\n",
       "    <tr style=\"text-align: right;\">\n",
       "      <th></th>\n",
       "      <th>Profit</th>\n",
       "    </tr>\n",
       "  </thead>\n",
       "  <tbody>\n",
       "    <tr>\n",
       "      <th>24</th>\n",
       "      <td>158552.04</td>\n",
       "    </tr>\n",
       "    <tr>\n",
       "      <th>48</th>\n",
       "      <td>85673.41</td>\n",
       "    </tr>\n",
       "    <tr>\n",
       "      <th>17</th>\n",
       "      <td>175370.37</td>\n",
       "    </tr>\n",
       "    <tr>\n",
       "      <th>12</th>\n",
       "      <td>191585.52</td>\n",
       "    </tr>\n",
       "    <tr>\n",
       "      <th>27</th>\n",
       "      <td>155008.31</td>\n",
       "    </tr>\n",
       "  </tbody>\n",
       "</table>\n",
       "</div>"
      ],
      "text/plain": [
       "       Profit\n",
       "24  158552.04\n",
       "48   85673.41\n",
       "17  175370.37\n",
       "12  191585.52\n",
       "27  155008.31"
      ]
     },
     "execution_count": 32,
     "metadata": {},
     "output_type": "execute_result"
    }
   ],
   "source": [
    "y_train.head()"
   ]
  },
  {
   "cell_type": "markdown",
   "id": "fe6eff0f-6a54-41b9-b025-de42b9d3b8a6",
   "metadata": {},
   "source": [
    "# .fit()"
   ]
  },
  {
   "cell_type": "code",
   "execution_count": null,
   "id": "abe3ebd2-1225-4771-9393-c9463dc30a69",
   "metadata": {},
   "outputs": [],
   "source": [
    "The fit method is used to train a wide range of machine learning models, including linear regression, logistic regression, decision trees."
   ]
  },
  {
   "cell_type": "code",
   "execution_count": 34,
   "id": "d8f49cbe-e6e6-40e9-b069-8bdf30037c91",
   "metadata": {},
   "outputs": [
    {
     "data": {
      "text/html": [
       "<style>#sk-container-id-2 {color: black;background-color: white;}#sk-container-id-2 pre{padding: 0;}#sk-container-id-2 div.sk-toggleable {background-color: white;}#sk-container-id-2 label.sk-toggleable__label {cursor: pointer;display: block;width: 100%;margin-bottom: 0;padding: 0.3em;box-sizing: border-box;text-align: center;}#sk-container-id-2 label.sk-toggleable__label-arrow:before {content: \"▸\";float: left;margin-right: 0.25em;color: #696969;}#sk-container-id-2 label.sk-toggleable__label-arrow:hover:before {color: black;}#sk-container-id-2 div.sk-estimator:hover label.sk-toggleable__label-arrow:before {color: black;}#sk-container-id-2 div.sk-toggleable__content {max-height: 0;max-width: 0;overflow: hidden;text-align: left;background-color: #f0f8ff;}#sk-container-id-2 div.sk-toggleable__content pre {margin: 0.2em;color: black;border-radius: 0.25em;background-color: #f0f8ff;}#sk-container-id-2 input.sk-toggleable__control:checked~div.sk-toggleable__content {max-height: 200px;max-width: 100%;overflow: auto;}#sk-container-id-2 input.sk-toggleable__control:checked~label.sk-toggleable__label-arrow:before {content: \"▾\";}#sk-container-id-2 div.sk-estimator input.sk-toggleable__control:checked~label.sk-toggleable__label {background-color: #d4ebff;}#sk-container-id-2 div.sk-label input.sk-toggleable__control:checked~label.sk-toggleable__label {background-color: #d4ebff;}#sk-container-id-2 input.sk-hidden--visually {border: 0;clip: rect(1px 1px 1px 1px);clip: rect(1px, 1px, 1px, 1px);height: 1px;margin: -1px;overflow: hidden;padding: 0;position: absolute;width: 1px;}#sk-container-id-2 div.sk-estimator {font-family: monospace;background-color: #f0f8ff;border: 1px dotted black;border-radius: 0.25em;box-sizing: border-box;margin-bottom: 0.5em;}#sk-container-id-2 div.sk-estimator:hover {background-color: #d4ebff;}#sk-container-id-2 div.sk-parallel-item::after {content: \"\";width: 100%;border-bottom: 1px solid gray;flex-grow: 1;}#sk-container-id-2 div.sk-label:hover label.sk-toggleable__label {background-color: #d4ebff;}#sk-container-id-2 div.sk-serial::before {content: \"\";position: absolute;border-left: 1px solid gray;box-sizing: border-box;top: 0;bottom: 0;left: 50%;z-index: 0;}#sk-container-id-2 div.sk-serial {display: flex;flex-direction: column;align-items: center;background-color: white;padding-right: 0.2em;padding-left: 0.2em;position: relative;}#sk-container-id-2 div.sk-item {position: relative;z-index: 1;}#sk-container-id-2 div.sk-parallel {display: flex;align-items: stretch;justify-content: center;background-color: white;position: relative;}#sk-container-id-2 div.sk-item::before, #sk-container-id-2 div.sk-parallel-item::before {content: \"\";position: absolute;border-left: 1px solid gray;box-sizing: border-box;top: 0;bottom: 0;left: 50%;z-index: -1;}#sk-container-id-2 div.sk-parallel-item {display: flex;flex-direction: column;z-index: 1;position: relative;background-color: white;}#sk-container-id-2 div.sk-parallel-item:first-child::after {align-self: flex-end;width: 50%;}#sk-container-id-2 div.sk-parallel-item:last-child::after {align-self: flex-start;width: 50%;}#sk-container-id-2 div.sk-parallel-item:only-child::after {width: 0;}#sk-container-id-2 div.sk-dashed-wrapped {border: 1px dashed gray;margin: 0 0.4em 0.5em 0.4em;box-sizing: border-box;padding-bottom: 0.4em;background-color: white;}#sk-container-id-2 div.sk-label label {font-family: monospace;font-weight: bold;display: inline-block;line-height: 1.2em;}#sk-container-id-2 div.sk-label-container {text-align: center;}#sk-container-id-2 div.sk-container {/* jupyter's `normalize.less` sets `[hidden] { display: none; }` but bootstrap.min.css set `[hidden] { display: none !important; }` so we also need the `!important` here to be able to override the default hidden behavior on the sphinx rendered scikit-learn.org. See: https://github.com/scikit-learn/scikit-learn/issues/21755 */display: inline-block !important;position: relative;}#sk-container-id-2 div.sk-text-repr-fallback {display: none;}</style><div id=\"sk-container-id-2\" class=\"sk-top-container\"><div class=\"sk-text-repr-fallback\"><pre>LinearRegression()</pre><b>In a Jupyter environment, please rerun this cell to show the HTML representation or trust the notebook. <br />On GitHub, the HTML representation is unable to render, please try loading this page with nbviewer.org.</b></div><div class=\"sk-container\" hidden><div class=\"sk-item\"><div class=\"sk-estimator sk-toggleable\"><input class=\"sk-toggleable__control sk-hidden--visually\" id=\"sk-estimator-id-2\" type=\"checkbox\" checked><label for=\"sk-estimator-id-2\" class=\"sk-toggleable__label sk-toggleable__label-arrow\">LinearRegression</label><div class=\"sk-toggleable__content\"><pre>LinearRegression()</pre></div></div></div></div></div>"
      ],
      "text/plain": [
       "LinearRegression()"
      ]
     },
     "execution_count": 34,
     "metadata": {},
     "output_type": "execute_result"
    }
   ],
   "source": [
    "lr.fit(x_train,y_train)"
   ]
  },
  {
   "cell_type": "code",
   "execution_count": 35,
   "id": "f4d2c1d5-50a0-4d54-86cf-5fa2b7aeaeb5",
   "metadata": {},
   "outputs": [
    {
     "data": {
      "text/html": [
       "<div>\n",
       "<style scoped>\n",
       "    .dataframe tbody tr th:only-of-type {\n",
       "        vertical-align: middle;\n",
       "    }\n",
       "\n",
       "    .dataframe tbody tr th {\n",
       "        vertical-align: top;\n",
       "    }\n",
       "\n",
       "    .dataframe thead th {\n",
       "        text-align: right;\n",
       "    }\n",
       "</style>\n",
       "<table border=\"1\" class=\"dataframe\">\n",
       "  <thead>\n",
       "    <tr style=\"text-align: right;\">\n",
       "      <th></th>\n",
       "      <th>Productivity_Exp</th>\n",
       "      <th>Management_Exp</th>\n",
       "      <th>Promotions_Exp</th>\n",
       "      <th>State_Illinois</th>\n",
       "      <th>State_Texas</th>\n",
       "      <th>State_Washington</th>\n",
       "    </tr>\n",
       "  </thead>\n",
       "  <tbody>\n",
       "    <tr>\n",
       "      <th>36</th>\n",
       "      <td>83663.76</td>\n",
       "      <td>227056.21</td>\n",
       "      <td>251126.82</td>\n",
       "      <td>False</td>\n",
       "      <td>False</td>\n",
       "      <td>True</td>\n",
       "    </tr>\n",
       "    <tr>\n",
       "      <th>47</th>\n",
       "      <td>55000.00</td>\n",
       "      <td>235426.92</td>\n",
       "      <td>50000.00</td>\n",
       "      <td>True</td>\n",
       "      <td>False</td>\n",
       "      <td>False</td>\n",
       "    </tr>\n",
       "    <tr>\n",
       "      <th>28</th>\n",
       "      <td>121051.52</td>\n",
       "      <td>282645.56</td>\n",
       "      <td>168148.20</td>\n",
       "      <td>False</td>\n",
       "      <td>False</td>\n",
       "      <td>True</td>\n",
       "    </tr>\n",
       "    <tr>\n",
       "      <th>9</th>\n",
       "      <td>178334.88</td>\n",
       "      <td>208679.17</td>\n",
       "      <td>354981.62</td>\n",
       "      <td>True</td>\n",
       "      <td>False</td>\n",
       "      <td>False</td>\n",
       "    </tr>\n",
       "    <tr>\n",
       "      <th>13</th>\n",
       "      <td>146992.39</td>\n",
       "      <td>235495.07</td>\n",
       "      <td>302664.93</td>\n",
       "      <td>True</td>\n",
       "      <td>False</td>\n",
       "      <td>False</td>\n",
       "    </tr>\n",
       "    <tr>\n",
       "      <th>0</th>\n",
       "      <td>220349.20</td>\n",
       "      <td>236897.80</td>\n",
       "      <td>521784.10</td>\n",
       "      <td>False</td>\n",
       "      <td>True</td>\n",
       "      <td>False</td>\n",
       "    </tr>\n",
       "    <tr>\n",
       "      <th>44</th>\n",
       "      <td>77177.74</td>\n",
       "      <td>254806.14</td>\n",
       "      <td>78334.72</td>\n",
       "      <td>True</td>\n",
       "      <td>False</td>\n",
       "      <td>False</td>\n",
       "    </tr>\n",
       "    <tr>\n",
       "      <th>46</th>\n",
       "      <td>56315.46</td>\n",
       "      <td>215816.21</td>\n",
       "      <td>347114.46</td>\n",
       "      <td>False</td>\n",
       "      <td>False</td>\n",
       "      <td>True</td>\n",
       "    </tr>\n",
       "    <tr>\n",
       "      <th>39</th>\n",
       "      <td>93558.51</td>\n",
       "      <td>182982.09</td>\n",
       "      <td>224999.30</td>\n",
       "      <td>True</td>\n",
       "      <td>False</td>\n",
       "      <td>False</td>\n",
       "    </tr>\n",
       "    <tr>\n",
       "      <th>23</th>\n",
       "      <td>122532.53</td>\n",
       "      <td>205751.03</td>\n",
       "      <td>354768.73</td>\n",
       "      <td>False</td>\n",
       "      <td>False</td>\n",
       "      <td>True</td>\n",
       "    </tr>\n",
       "  </tbody>\n",
       "</table>\n",
       "</div>"
      ],
      "text/plain": [
       "    Productivity_Exp  Management_Exp  Promotions_Exp  State_Illinois  \\\n",
       "36          83663.76       227056.21       251126.82           False   \n",
       "47          55000.00       235426.92        50000.00            True   \n",
       "28         121051.52       282645.56       168148.20           False   \n",
       "9          178334.88       208679.17       354981.62            True   \n",
       "13         146992.39       235495.07       302664.93            True   \n",
       "0          220349.20       236897.80       521784.10           False   \n",
       "44          77177.74       254806.14        78334.72            True   \n",
       "46          56315.46       215816.21       347114.46           False   \n",
       "39          93558.51       182982.09       224999.30            True   \n",
       "23         122532.53       205751.03       354768.73           False   \n",
       "\n",
       "    State_Texas  State_Washington  \n",
       "36        False              True  \n",
       "47        False             False  \n",
       "28        False              True  \n",
       "9         False             False  \n",
       "13        False             False  \n",
       "0          True             False  \n",
       "44        False             False  \n",
       "46        False              True  \n",
       "39        False             False  \n",
       "23        False              True  "
      ]
     },
     "execution_count": 35,
     "metadata": {},
     "output_type": "execute_result"
    }
   ],
   "source": [
    "x_test"
   ]
  },
  {
   "cell_type": "markdown",
   "id": "8bad40d6-1254-4120-95a6-c320666340c3",
   "metadata": {},
   "source": [
    "## Predict"
   ]
  },
  {
   "cell_type": "code",
   "execution_count": null,
   "id": "6a3c5702-fcc3-423b-bf16-e92d8d66af4c",
   "metadata": {},
   "outputs": [],
   "source": [
    "“Prediction” refers to the output of an algorithm\n",
    "after it has been trained on a historical dataset and applied to new data."
   ]
  },
  {
   "cell_type": "code",
   "execution_count": 39,
   "id": "12002406-29f6-4d9b-bd6f-3234070fe1c7",
   "metadata": {},
   "outputs": [
    {
     "name": "stderr",
     "output_type": "stream",
     "text": [
      "C:\\Users\\sudha\\OneDrive\\Desktop\\anaconda\\Lib\\site-packages\\sklearn\\base.py:439: UserWarning: X does not have valid feature names, but LinearRegression was fitted with feature names\n",
      "  warnings.warn(\n"
     ]
    },
    {
     "data": {
      "text/plain": [
       "array([[112830.30175925]])"
      ]
     },
     "execution_count": 39,
     "metadata": {},
     "output_type": "execute_result"
    }
   ],
   "source": [
    "lr.predict([[77177.74,254806.14,78334.72,0,0,1]])"
   ]
  },
  {
   "cell_type": "code",
   "execution_count": 38,
   "id": "82f44737-1f49-4351-a863-e38c23ef3e1d",
   "metadata": {},
   "outputs": [
    {
     "name": "stderr",
     "output_type": "stream",
     "text": [
      "C:\\Users\\sudha\\OneDrive\\Desktop\\anaconda\\Lib\\site-packages\\sklearn\\base.py:439: UserWarning: X does not have valid feature names, but LinearRegression was fitted with feature names\n",
      "  warnings.warn(\n"
     ]
    },
    {
     "data": {
      "text/plain": [
       "array([[204709.83432853]])"
      ]
     },
     "execution_count": 38,
     "metadata": {},
     "output_type": "execute_result"
    }
   ],
   "source": [
    "lr.predict([[178334.88,208679.17,354981.62,0,0,1]])"
   ]
  },
  {
   "cell_type": "code",
   "execution_count": 40,
   "id": "319614fe-c534-483b-b746-22645bdaa45b",
   "metadata": {},
   "outputs": [
    {
     "data": {
      "text/html": [
       "<div>\n",
       "<style scoped>\n",
       "    .dataframe tbody tr th:only-of-type {\n",
       "        vertical-align: middle;\n",
       "    }\n",
       "\n",
       "    .dataframe tbody tr th {\n",
       "        vertical-align: top;\n",
       "    }\n",
       "\n",
       "    .dataframe thead th {\n",
       "        text-align: right;\n",
       "    }\n",
       "</style>\n",
       "<table border=\"1\" class=\"dataframe\">\n",
       "  <thead>\n",
       "    <tr style=\"text-align: right;\">\n",
       "      <th></th>\n",
       "      <th>Profit</th>\n",
       "    </tr>\n",
       "  </thead>\n",
       "  <tbody>\n",
       "    <tr>\n",
       "      <th>36</th>\n",
       "      <td>140708.19</td>\n",
       "    </tr>\n",
       "    <tr>\n",
       "      <th>47</th>\n",
       "      <td>92559.73</td>\n",
       "    </tr>\n",
       "    <tr>\n",
       "      <th>28</th>\n",
       "      <td>153282.38</td>\n",
       "    </tr>\n",
       "    <tr>\n",
       "      <th>9</th>\n",
       "      <td>199759.96</td>\n",
       "    </tr>\n",
       "    <tr>\n",
       "      <th>13</th>\n",
       "      <td>184307.35</td>\n",
       "    </tr>\n",
       "    <tr>\n",
       "      <th>0</th>\n",
       "      <td>242261.83</td>\n",
       "    </tr>\n",
       "    <tr>\n",
       "      <th>44</th>\n",
       "      <td>115200.33</td>\n",
       "    </tr>\n",
       "    <tr>\n",
       "      <th>46</th>\n",
       "      <td>99490.75</td>\n",
       "    </tr>\n",
       "    <tr>\n",
       "      <th>39</th>\n",
       "      <td>131005.76</td>\n",
       "    </tr>\n",
       "    <tr>\n",
       "      <th>23</th>\n",
       "      <td>158733.99</td>\n",
       "    </tr>\n",
       "  </tbody>\n",
       "</table>\n",
       "</div>"
      ],
      "text/plain": [
       "       Profit\n",
       "36  140708.19\n",
       "47   92559.73\n",
       "28  153282.38\n",
       "9   199759.96\n",
       "13  184307.35\n",
       "0   242261.83\n",
       "44  115200.33\n",
       "46   99490.75\n",
       "39  131005.76\n",
       "23  158733.99"
      ]
     },
     "execution_count": 40,
     "metadata": {},
     "output_type": "execute_result"
    }
   ],
   "source": [
    "y_test"
   ]
  },
  {
   "cell_type": "code",
   "execution_count": 41,
   "id": "aadfa348-e53f-4c15-bbc8-38ecaa14532b",
   "metadata": {},
   "outputs": [],
   "source": [
    "from sklearn .metrics import mean_absolute_error,mean_squared_error,r2_score"
   ]
  },
  {
   "cell_type": "code",
   "execution_count": 42,
   "id": "cf8453f8-a391-4bdc-818b-af5c5454a0e5",
   "metadata": {},
   "outputs": [],
   "source": [
    "y_pred=lr.predict(x_test)  #it predicts the new set of data."
   ]
  },
  {
   "cell_type": "code",
   "execution_count": 35,
   "id": "09677760-022b-4196-aba7-c8bf0753d00e",
   "metadata": {},
   "outputs": [
    {
     "data": {
      "text/plain": [
       "array([[124061.28471146],\n",
       "       [ 96009.23798771],\n",
       "       [149637.26360778],\n",
       "       [205786.53229364],\n",
       "       [177636.76349543],\n",
       "       [242765.18597815],\n",
       "       [113906.99972437],\n",
       "       [104935.14415875],\n",
       "       [134532.35238001],\n",
       "       [159460.29711996]])"
      ]
     },
     "execution_count": 35,
     "metadata": {},
     "output_type": "execute_result"
    }
   ],
   "source": [
    "y_pred"
   ]
  },
  {
   "cell_type": "code",
   "execution_count": 43,
   "id": "e675f2c4-4d06-4271-b73f-044b7783e986",
   "metadata": {},
   "outputs": [
    {
     "data": {
      "text/plain": [
       "array([[140708.19],\n",
       "       [ 92559.73],\n",
       "       [153282.38],\n",
       "       [199759.96],\n",
       "       [184307.35],\n",
       "       [242261.83],\n",
       "       [115200.33],\n",
       "       [ 99490.75],\n",
       "       [131005.76],\n",
       "       [158733.99]])"
      ]
     },
     "execution_count": 43,
     "metadata": {},
     "output_type": "execute_result"
    }
   ],
   "source": [
    "y_test.values"
   ]
  },
  {
   "cell_type": "markdown",
   "id": "21b9a8cc-aa0d-4ecd-bb1e-fefb2ea362be",
   "metadata": {},
   "source": [
    "# MAE"
   ]
  },
  {
   "cell_type": "code",
   "execution_count": null,
   "id": "f60554b0-67c1-42f7-b72a-c62af3f9f3f5",
   "metadata": {},
   "outputs": [],
   "source": [
    "absolute error refers to difference between the prediction of an observation and the true value of that observation.\n",
    "MAE takes the average of absolute errors for a group of predictions and observations as a measurement of the magnitude of errors for the entire group."
   ]
  },
  {
   "cell_type": "markdown",
   "id": "e843b12a-ba8e-47c6-8ef8-480d670d2532",
   "metadata": {},
   "source": [
    "## It is the absolute sum of total errors values obtained from the difference of estimated and measured values divide by number of observation"
   ]
  },
  {
   "cell_type": "code",
   "execution_count": 44,
   "id": "1aedf41d-ce15-422e-b4b4-561f8eb5183c",
   "metadata": {},
   "outputs": [
    {
     "data": {
      "text/plain": [
       "4793.266837919085"
      ]
     },
     "execution_count": 44,
     "metadata": {},
     "output_type": "execute_result"
    }
   ],
   "source": [
    "mean_absolute_error(y_test,y_pred)"
   ]
  },
  {
   "cell_type": "markdown",
   "id": "27428c42-7416-41c1-83fe-3f47b1dfb546",
   "metadata": {},
   "source": [
    "## It measures the average squared difference between the predicted and the actual target values within a dataset"
   ]
  },
  {
   "cell_type": "code",
   "execution_count": 45,
   "id": "353a5d1a-f144-4656-a812-8319e5ea0f0a",
   "metadata": {},
   "outputs": [
    {
     "data": {
      "text/plain": [
       "42765360.65268912"
      ]
     },
     "execution_count": 45,
     "metadata": {},
     "output_type": "execute_result"
    }
   ],
   "source": [
    "mean_squared_error(y_test,y_pred)"
   ]
  },
  {
   "cell_type": "markdown",
   "id": "e690b099-5bc4-4724-afe2-01847e844922",
   "metadata": {},
   "source": [
    "# Conclusion"
   ]
  },
  {
   "cell_type": "code",
   "execution_count": null,
   "id": "769ad809-6398-4e3b-bd05-091dea3f0285",
   "metadata": {},
   "outputs": [],
   "source": [
    "Finally we found  How much Company Profit Based three Productivity_Exp,Management_Exp,Promotions_Exp"
   ]
  },
  {
   "cell_type": "code",
   "execution_count": null,
   "id": "f36c0613-0c32-4ed9-b14d-30cbe6b57fab",
   "metadata": {},
   "outputs": [],
   "source": []
  }
 ],
 "metadata": {
  "kernelspec": {
   "display_name": "Python 3 (ipykernel)",
   "language": "python",
   "name": "python3"
  },
  "language_info": {
   "codemirror_mode": {
    "name": "ipython",
    "version": 3
   },
   "file_extension": ".py",
   "mimetype": "text/x-python",
   "name": "python",
   "nbconvert_exporter": "python",
   "pygments_lexer": "ipython3",
   "version": "3.11.7"
  }
 },
 "nbformat": 4,
 "nbformat_minor": 5
}
